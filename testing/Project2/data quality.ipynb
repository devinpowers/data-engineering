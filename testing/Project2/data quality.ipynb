{
 "cells": [
  {
   "cell_type": "code",
   "execution_count": 3,
   "id": "8a214956",
   "metadata": {},
   "outputs": [
    {
     "ename": "ModuleNotFoundError",
     "evalue": "No module named 'great_expectations'",
     "output_type": "error",
     "traceback": [
      "\u001b[0;31m---------------------------------------------------------------------------\u001b[0m",
      "\u001b[0;31mModuleNotFoundError\u001b[0m                       Traceback (most recent call last)",
      "Input \u001b[0;32mIn [3]\u001b[0m, in \u001b[0;36m<cell line: 1>\u001b[0;34m()\u001b[0m\n\u001b[0;32m----> 1\u001b[0m \u001b[38;5;28;01mimport\u001b[39;00m \u001b[38;5;21;01mgreat_expectations\u001b[39;00m \u001b[38;5;28;01mas\u001b[39;00m \u001b[38;5;21;01mge\u001b[39;00m\n\u001b[1;32m      2\u001b[0m \u001b[38;5;28;01mimport\u001b[39;00m \u001b[38;5;21;01mnumpy\u001b[39;00m \u001b[38;5;28;01mas\u001b[39;00m \u001b[38;5;21;01mnp\u001b[39;00m\n\u001b[1;32m      3\u001b[0m \u001b[38;5;28;01mimport\u001b[39;00m \u001b[38;5;21;01mpandas\u001b[39;00m \u001b[38;5;28;01mas\u001b[39;00m \u001b[38;5;21;01mpd\u001b[39;00m\n",
      "\u001b[0;31mModuleNotFoundError\u001b[0m: No module named 'great_expectations'"
     ]
    }
   ],
   "source": [
    "import great_expectations as ge\n",
    "import numpy as np\n",
    "import pandas as pd\n",
    "\n",
    "# ref: https://stackoverflow.com/questions/32752292/how-to-create-a-dataframe-of-random-integers-with-pandas\n",
    "df_raw = pd.DataFrame(np.random.randint(0,100,size=(100, 4)), columns=list('ABCD'))\n",
    "\n",
    "df = ge.from_pandas(df_raw)\n",
    "df.expect_column_values_to_not_be_null('A')"
   ]
  },
  {
   "cell_type": "code",
   "execution_count": 2,
   "id": "f13ae9fb",
   "metadata": {},
   "outputs": [
    {
     "name": "stdout",
     "output_type": "stream",
     "text": [
      "Collecting great_expectations\n",
      "  Downloading great_expectations-0.15.7-py3-none-any.whl (5.1 MB)\n",
      "\u001b[2K     \u001b[90m━━━━━━━━━━━━━━━━━━━━━━━━━━━━━━━━━━━━━━━━\u001b[0m \u001b[32m5.1/5.1 MB\u001b[0m \u001b[31m1.8 MB/s\u001b[0m eta \u001b[36m0:00:00\u001b[0m00:01\u001b[0m00:01\u001b[0m\n",
      "\u001b[?25hRequirement already satisfied: requests>=2.20 in /Users/devinpowers/.pyenv/versions/3.10.4/lib/python3.10/site-packages (from great_expectations) (2.26.0)\n",
      "Requirement already satisfied: typing-extensions>=3.10.0.0 in /Users/devinpowers/.pyenv/versions/3.10.4/lib/python3.10/site-packages (from great_expectations) (4.2.0)\n",
      "Requirement already satisfied: pytz>=2021.3 in /Users/devinpowers/.pyenv/versions/3.10.4/lib/python3.10/site-packages (from great_expectations) (2021.3)\n",
      "Requirement already satisfied: pandas>=0.23.0 in /Users/devinpowers/.pyenv/versions/3.10.4/lib/python3.10/site-packages (from great_expectations) (1.4.2)\n",
      "Requirement already satisfied: numpy>=1.14.1 in /Users/devinpowers/.pyenv/versions/3.10.4/lib/python3.10/site-packages (from great_expectations) (1.22.4)\n",
      "Requirement already satisfied: packaging in /Users/devinpowers/.pyenv/versions/3.10.4/lib/python3.10/site-packages (from great_expectations) (21.3)\n",
      "Requirement already satisfied: Ipython>=7.16.3 in /Users/devinpowers/.pyenv/versions/3.10.4/lib/python3.10/site-packages (from great_expectations) (8.3.0)\n",
      "Collecting importlib-metadata>=1.7.0\n",
      "  Downloading importlib_metadata-4.11.4-py3-none-any.whl (18 kB)\n",
      "Requirement already satisfied: Click>=7.1.2 in /Users/devinpowers/.pyenv/versions/3.10.4/lib/python3.10/site-packages (from great_expectations) (7.1.2)\n",
      "Collecting jsonpatch>=1.22\n",
      "  Downloading jsonpatch-1.32-py2.py3-none-any.whl (12 kB)\n",
      "Requirement already satisfied: tqdm>=4.59.0 in /Users/devinpowers/.pyenv/versions/3.10.4/lib/python3.10/site-packages (from great_expectations) (4.64.0)\n",
      "Requirement already satisfied: nbformat>=5.0 in /Users/devinpowers/.pyenv/versions/3.10.4/lib/python3.10/site-packages (from great_expectations) (5.4.0)\n",
      "Requirement already satisfied: urllib3<1.27,>=1.25.4 in /Users/devinpowers/.pyenv/versions/3.10.4/lib/python3.10/site-packages (from great_expectations) (1.26.7)\n",
      "Requirement already satisfied: jsonschema>=2.5.1 in /Users/devinpowers/.pyenv/versions/3.10.4/lib/python3.10/site-packages (from great_expectations) (3.2.0)\n",
      "Collecting altair<5,>=4.0.0\n",
      "  Downloading altair-4.2.0-py3-none-any.whl (812 kB)\n",
      "\u001b[2K     \u001b[90m━━━━━━━━━━━━━━━━━━━━━━━━━━━━━━━━━━━━━\u001b[0m \u001b[32m812.8/812.8 kB\u001b[0m \u001b[31m445.8 kB/s\u001b[0m eta \u001b[36m0:00:00\u001b[0m00:01\u001b[0m00:01\u001b[0m\n",
      "\u001b[?25hRequirement already satisfied: colorama>=0.4.3 in /Users/devinpowers/.pyenv/versions/3.10.4/lib/python3.10/site-packages (from great_expectations) (0.4.4)\n",
      "Requirement already satisfied: termcolor>=1.1.0 in /Users/devinpowers/.pyenv/versions/3.10.4/lib/python3.10/site-packages (from great_expectations) (1.1.0)\n",
      "Requirement already satisfied: python-dateutil>=2.8.1 in /Users/devinpowers/.pyenv/versions/3.10.4/lib/python3.10/site-packages (from great_expectations) (2.8.2)\n",
      "Collecting notebook>=6.4.10\n",
      "  Downloading notebook-6.4.11-py3-none-any.whl (9.9 MB)\n",
      "\u001b[2K     \u001b[90m━━━━━━━━━━━━━━━━━━━━━━━━━━━━━━━━━━━━━━━━\u001b[0m \u001b[32m9.9/9.9 MB\u001b[0m \u001b[31m1.0 MB/s\u001b[0m eta \u001b[36m0:00:00\u001b[0m00:01\u001b[0m00:01\u001b[0m0m\n",
      "\u001b[?25hCollecting tzlocal>=1.2\n",
      "  Downloading tzlocal-4.2-py3-none-any.whl (19 kB)\n",
      "Collecting ruamel.yaml<0.17.18,>=0.16\n",
      "  Downloading ruamel.yaml-0.17.17-py3-none-any.whl (109 kB)\n",
      "\u001b[2K     \u001b[90m━━━━━━━━━━━━━━━━━━━━━━━━━━━━━━━━━━━━━\u001b[0m \u001b[32m109.1/109.1 kB\u001b[0m \u001b[31m461.9 kB/s\u001b[0m eta \u001b[36m0:00:00\u001b[0ma \u001b[36m0:00:01\u001b[0m\n",
      "\u001b[?25hRequirement already satisfied: jinja2<3.1.0,>=2.10 in /Users/devinpowers/.pyenv/versions/3.10.4/lib/python3.10/site-packages (from great_expectations) (2.11.3)\n",
      "Requirement already satisfied: mistune>=0.8.4 in /Users/devinpowers/.pyenv/versions/3.10.4/lib/python3.10/site-packages (from great_expectations) (0.8.4)\n",
      "Collecting pyparsing<3,>=2.4\n",
      "  Downloading pyparsing-2.4.7-py2.py3-none-any.whl (67 kB)\n",
      "\u001b[2K     \u001b[90m━━━━━━━━━━━━━━━━━━━━━━━━━━━━━━━━━━━━━━━\u001b[0m \u001b[32m67.8/67.8 kB\u001b[0m \u001b[31m422.9 kB/s\u001b[0m eta \u001b[36m0:00:00\u001b[0ma \u001b[36m0:00:01\u001b[0m\n",
      "\u001b[?25hRequirement already satisfied: cryptography<37.0.0,>=3.2 in /Users/devinpowers/.pyenv/versions/3.10.4/lib/python3.10/site-packages (from great_expectations) (36.0.0)\n",
      "Requirement already satisfied: scipy>=0.19.0 in /Users/devinpowers/.pyenv/versions/3.10.4/lib/python3.10/site-packages (from great_expectations) (1.8.1)\n",
      "Requirement already satisfied: entrypoints in /Users/devinpowers/.pyenv/versions/3.10.4/lib/python3.10/site-packages (from altair<5,>=4.0.0->great_expectations) (0.4)\n",
      "Requirement already satisfied: toolz in /Users/devinpowers/.pyenv/versions/3.10.4/lib/python3.10/site-packages (from altair<5,>=4.0.0->great_expectations) (0.11.2)\n",
      "Requirement already satisfied: cffi>=1.12 in /Users/devinpowers/.pyenv/versions/3.10.4/lib/python3.10/site-packages (from cryptography<37.0.0,>=3.2->great_expectations) (1.15.0)\n",
      "Collecting zipp>=0.5\n",
      "  Downloading zipp-3.8.0-py3-none-any.whl (5.4 kB)\n",
      "Requirement already satisfied: jedi>=0.16 in /Users/devinpowers/.pyenv/versions/3.10.4/lib/python3.10/site-packages (from Ipython>=7.16.3->great_expectations) (0.18.1)\n",
      "Requirement already satisfied: appnope in /Users/devinpowers/.pyenv/versions/3.10.4/lib/python3.10/site-packages (from Ipython>=7.16.3->great_expectations) (0.1.3)\n",
      "Requirement already satisfied: prompt-toolkit!=3.0.0,!=3.0.1,<3.1.0,>=2.0.0 in /Users/devinpowers/.pyenv/versions/3.10.4/lib/python3.10/site-packages (from Ipython>=7.16.3->great_expectations) (3.0.29)\n",
      "Requirement already satisfied: pickleshare in /Users/devinpowers/.pyenv/versions/3.10.4/lib/python3.10/site-packages (from Ipython>=7.16.3->great_expectations) (0.7.5)\n",
      "Requirement already satisfied: pexpect>4.3 in /Users/devinpowers/.pyenv/versions/3.10.4/lib/python3.10/site-packages (from Ipython>=7.16.3->great_expectations) (4.8.0)\n",
      "Requirement already satisfied: decorator in /Users/devinpowers/.pyenv/versions/3.10.4/lib/python3.10/site-packages (from Ipython>=7.16.3->great_expectations) (5.1.1)\n",
      "Requirement already satisfied: pygments>=2.4.0 in /Users/devinpowers/.pyenv/versions/3.10.4/lib/python3.10/site-packages (from Ipython>=7.16.3->great_expectations) (2.10.0)\n",
      "Requirement already satisfied: traitlets>=5 in /Users/devinpowers/.pyenv/versions/3.10.4/lib/python3.10/site-packages (from Ipython>=7.16.3->great_expectations) (5.2.1.post0)\n",
      "Requirement already satisfied: matplotlib-inline in /Users/devinpowers/.pyenv/versions/3.10.4/lib/python3.10/site-packages (from Ipython>=7.16.3->great_expectations) (0.1.3)\n",
      "Requirement already satisfied: setuptools>=18.5 in /Users/devinpowers/.pyenv/versions/3.10.4/lib/python3.10/site-packages (from Ipython>=7.16.3->great_expectations) (58.1.0)\n",
      "Requirement already satisfied: backcall in /Users/devinpowers/.pyenv/versions/3.10.4/lib/python3.10/site-packages (from Ipython>=7.16.3->great_expectations) (0.2.0)\n",
      "Requirement already satisfied: stack-data in /Users/devinpowers/.pyenv/versions/3.10.4/lib/python3.10/site-packages (from Ipython>=7.16.3->great_expectations) (0.2.0)\n",
      "Requirement already satisfied: MarkupSafe>=0.23 in /Users/devinpowers/.pyenv/versions/3.10.4/lib/python3.10/site-packages (from jinja2<3.1.0,>=2.10->great_expectations) (2.0.1)\n",
      "Collecting jsonpointer>=1.9\n",
      "  Downloading jsonpointer-2.3-py2.py3-none-any.whl (7.8 kB)\n",
      "Requirement already satisfied: six>=1.11.0 in /Users/devinpowers/.pyenv/versions/3.10.4/lib/python3.10/site-packages (from jsonschema>=2.5.1->great_expectations) (1.16.0)\n",
      "Requirement already satisfied: attrs>=17.4.0 in /Users/devinpowers/.pyenv/versions/3.10.4/lib/python3.10/site-packages (from jsonschema>=2.5.1->great_expectations) (20.3.0)\n",
      "Requirement already satisfied: pyrsistent>=0.14.0 in /Users/devinpowers/.pyenv/versions/3.10.4/lib/python3.10/site-packages (from jsonschema>=2.5.1->great_expectations) (0.18.0)\n",
      "Requirement already satisfied: fastjsonschema in /Users/devinpowers/.pyenv/versions/3.10.4/lib/python3.10/site-packages (from nbformat>=5.0->great_expectations) (2.15.3)\n",
      "Requirement already satisfied: jupyter-core in /Users/devinpowers/.pyenv/versions/3.10.4/lib/python3.10/site-packages (from nbformat>=5.0->great_expectations) (4.10.0)\n",
      "Requirement already satisfied: jupyter-client>=5.3.4 in /Users/devinpowers/.pyenv/versions/3.10.4/lib/python3.10/site-packages (from notebook>=6.4.10->great_expectations) (6.1.12)\n",
      "Requirement already satisfied: ipython-genutils in /Users/devinpowers/.pyenv/versions/3.10.4/lib/python3.10/site-packages (from notebook>=6.4.10->great_expectations) (0.2.0)\n",
      "Requirement already satisfied: pyzmq>=17 in /Users/devinpowers/.pyenv/versions/3.10.4/lib/python3.10/site-packages (from notebook>=6.4.10->great_expectations) (23.0.0)\n",
      "Requirement already satisfied: tornado>=6.1 in /Users/devinpowers/.pyenv/versions/3.10.4/lib/python3.10/site-packages (from notebook>=6.4.10->great_expectations) (6.1)\n"
     ]
    },
    {
     "name": "stdout",
     "output_type": "stream",
     "text": [
      "Collecting terminado>=0.8.3\n",
      "  Downloading terminado-0.15.0-py3-none-any.whl (16 kB)\n",
      "Collecting Send2Trash>=1.8.0\n",
      "  Downloading Send2Trash-1.8.0-py3-none-any.whl (18 kB)\n",
      "Collecting prometheus-client\n",
      "  Downloading prometheus_client-0.14.1-py3-none-any.whl (59 kB)\n",
      "\u001b[2K     \u001b[90m━━━━━━━━━━━━━━━━━━━━━━━━━━━━━━━━━━━━━━━\u001b[0m \u001b[32m59.5/59.5 kB\u001b[0m \u001b[31m406.6 kB/s\u001b[0m eta \u001b[36m0:00:00\u001b[0ma \u001b[36m0:00:01\u001b[0m\n",
      "\u001b[?25hRequirement already satisfied: nest-asyncio>=1.5 in /Users/devinpowers/.pyenv/versions/3.10.4/lib/python3.10/site-packages (from notebook>=6.4.10->great_expectations) (1.5.5)\n",
      "Requirement already satisfied: nbconvert>=5 in /Users/devinpowers/.pyenv/versions/3.10.4/lib/python3.10/site-packages (from notebook>=6.4.10->great_expectations) (5.6.1)\n",
      "Requirement already satisfied: ipykernel in /Users/devinpowers/.pyenv/versions/3.10.4/lib/python3.10/site-packages (from notebook>=6.4.10->great_expectations) (6.13.0)\n",
      "Collecting argon2-cffi\n",
      "  Downloading argon2_cffi-21.3.0-py3-none-any.whl (14 kB)\n",
      "Requirement already satisfied: charset-normalizer~=2.0.0 in /Users/devinpowers/.pyenv/versions/3.10.4/lib/python3.10/site-packages (from requests>=2.20->great_expectations) (2.0.9)\n",
      "Requirement already satisfied: idna<4,>=2.5 in /Users/devinpowers/.pyenv/versions/3.10.4/lib/python3.10/site-packages (from requests>=2.20->great_expectations) (3.3)\n",
      "Requirement already satisfied: certifi>=2017.4.17 in /Users/devinpowers/.pyenv/versions/3.10.4/lib/python3.10/site-packages (from requests>=2.20->great_expectations) (2020.12.5)\n",
      "Collecting pytz-deprecation-shim\n",
      "  Downloading pytz_deprecation_shim-0.1.0.post0-py2.py3-none-any.whl (15 kB)\n",
      "Requirement already satisfied: pycparser in /Users/devinpowers/.pyenv/versions/3.10.4/lib/python3.10/site-packages (from cffi>=1.12->cryptography<37.0.0,>=3.2->great_expectations) (2.21)\n",
      "Requirement already satisfied: parso<0.9.0,>=0.8.0 in /Users/devinpowers/.pyenv/versions/3.10.4/lib/python3.10/site-packages (from jedi>=0.16->Ipython>=7.16.3->great_expectations) (0.8.3)\n",
      "Requirement already satisfied: testpath in /Users/devinpowers/.pyenv/versions/3.10.4/lib/python3.10/site-packages (from nbconvert>=5->notebook>=6.4.10->great_expectations) (0.6.0)\n",
      "Requirement already satisfied: pandocfilters>=1.4.1 in /Users/devinpowers/.pyenv/versions/3.10.4/lib/python3.10/site-packages (from nbconvert>=5->notebook>=6.4.10->great_expectations) (1.5.0)\n",
      "Requirement already satisfied: defusedxml in /Users/devinpowers/.pyenv/versions/3.10.4/lib/python3.10/site-packages (from nbconvert>=5->notebook>=6.4.10->great_expectations) (0.7.1)\n",
      "Requirement already satisfied: bleach in /Users/devinpowers/.pyenv/versions/3.10.4/lib/python3.10/site-packages (from nbconvert>=5->notebook>=6.4.10->great_expectations) (5.0.0)\n",
      "Requirement already satisfied: ptyprocess>=0.5 in /Users/devinpowers/.pyenv/versions/3.10.4/lib/python3.10/site-packages (from pexpect>4.3->Ipython>=7.16.3->great_expectations) (0.7.0)\n",
      "Requirement already satisfied: wcwidth in /Users/devinpowers/.pyenv/versions/3.10.4/lib/python3.10/site-packages (from prompt-toolkit!=3.0.0,!=3.0.1,<3.1.0,>=2.0.0->Ipython>=7.16.3->great_expectations) (0.2.5)\n",
      "Collecting argon2-cffi-bindings\n",
      "  Downloading argon2_cffi_bindings-21.2.0-cp38-abi3-macosx_10_9_universal2.whl (53 kB)\n",
      "\u001b[2K     \u001b[90m━━━━━━━━━━━━━━━━━━━━━━━━━━━━━━━━━━━━━━━\u001b[0m \u001b[32m53.1/53.1 kB\u001b[0m \u001b[31m353.3 kB/s\u001b[0m eta \u001b[36m0:00:00\u001b[0ma \u001b[36m0:00:01\u001b[0m\n",
      "\u001b[?25hRequirement already satisfied: debugpy>=1.0 in /Users/devinpowers/.pyenv/versions/3.10.4/lib/python3.10/site-packages (from ipykernel->notebook>=6.4.10->great_expectations) (1.6.0)\n",
      "Requirement already satisfied: psutil in /Users/devinpowers/.pyenv/versions/3.10.4/lib/python3.10/site-packages (from ipykernel->notebook>=6.4.10->great_expectations) (5.8.0)\n",
      "Collecting tzdata\n",
      "  Downloading tzdata-2022.1-py2.py3-none-any.whl (339 kB)\n",
      "\u001b[2K     \u001b[90m━━━━━━━━━━━━━━━━━━━━━━━━━━━━━━━━━━━━━\u001b[0m \u001b[32m339.5/339.5 kB\u001b[0m \u001b[31m438.0 kB/s\u001b[0m eta \u001b[36m0:00:00\u001b[0m00:01\u001b[0m00:01\u001b[0m\n",
      "\u001b[?25hRequirement already satisfied: pure-eval in /Users/devinpowers/.pyenv/versions/3.10.4/lib/python3.10/site-packages (from stack-data->Ipython>=7.16.3->great_expectations) (0.2.2)\n",
      "Requirement already satisfied: asttokens in /Users/devinpowers/.pyenv/versions/3.10.4/lib/python3.10/site-packages (from stack-data->Ipython>=7.16.3->great_expectations) (2.0.5)\n",
      "Requirement already satisfied: executing in /Users/devinpowers/.pyenv/versions/3.10.4/lib/python3.10/site-packages (from stack-data->Ipython>=7.16.3->great_expectations) (0.8.3)\n",
      "Requirement already satisfied: webencodings in /Users/devinpowers/.pyenv/versions/3.10.4/lib/python3.10/site-packages (from bleach->nbconvert>=5->notebook>=6.4.10->great_expectations) (0.5.1)\n",
      "Installing collected packages: Send2Trash, zipp, tzdata, terminado, ruamel.yaml, pyparsing, prometheus-client, jsonpointer, pytz-deprecation-shim, jsonpatch, importlib-metadata, argon2-cffi-bindings, tzlocal, argon2-cffi, altair, notebook, great_expectations\n",
      "  Attempting uninstall: pyparsing\n",
      "    Found existing installation: pyparsing 3.0.6\n",
      "    Uninstalling pyparsing-3.0.6:\n",
      "      Successfully uninstalled pyparsing-3.0.6\n",
      "\u001b[31mERROR: pip's dependency resolver does not currently take into account all the packages that are installed. This behaviour is the source of the following dependency conflicts.\n",
      "apache-airflow 2.2.3 requires pyjwt<2, but you have pyjwt 2.4.0 which is incompatible.\u001b[0m\u001b[31m\n",
      "\u001b[0mSuccessfully installed Send2Trash-1.8.0 altair-4.2.0 argon2-cffi-21.3.0 argon2-cffi-bindings-21.2.0 great_expectations-0.15.7 importlib-metadata-4.11.4 jsonpatch-1.32 jsonpointer-2.3 notebook-6.4.11 prometheus-client-0.14.1 pyparsing-2.4.7 pytz-deprecation-shim-0.1.0.post0 ruamel.yaml-0.17.17 terminado-0.15.0 tzdata-2022.1 tzlocal-4.2 zipp-3.8.0\n"
     ]
    }
   ],
   "source": [
    "! pip install great_expectations"
   ]
  },
  {
   "cell_type": "code",
   "execution_count": null,
   "id": "875a02b0",
   "metadata": {},
   "outputs": [],
   "source": []
  },
  {
   "cell_type": "code",
   "execution_count": null,
   "id": "2e539cdc",
   "metadata": {},
   "outputs": [],
   "source": []
  },
  {
   "cell_type": "code",
   "execution_count": null,
   "id": "3976c465",
   "metadata": {},
   "outputs": [],
   "source": []
  }
 ],
 "metadata": {
  "kernelspec": {
   "display_name": "Python 3 (ipykernel)",
   "language": "python",
   "name": "python3"
  },
  "language_info": {
   "codemirror_mode": {
    "name": "ipython",
    "version": 3
   },
   "file_extension": ".py",
   "mimetype": "text/x-python",
   "name": "python",
   "nbconvert_exporter": "python",
   "pygments_lexer": "ipython3",
   "version": "3.9.13"
  }
 },
 "nbformat": 4,
 "nbformat_minor": 5
}
